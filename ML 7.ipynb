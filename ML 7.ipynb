{
 "cells": [
  {
   "cell_type": "code",
   "execution_count": 2,
   "id": "f9d35f1e",
   "metadata": {},
   "outputs": [],
   "source": [
    "from sklearn.datasets import fetch_20newsgroups\n",
    "from sklearn.model_selection import train_test_split\n",
    "from sklearn.feature_extraction.text import TfidfVectorizer\n",
    "from sklearn.naive_bayes import MultinomialNB\n",
    "from sklearn.metrics import accuracy_score, classification_report"
   ]
  },
  {
   "cell_type": "code",
   "execution_count": 3,
   "id": "12bfc1d1",
   "metadata": {},
   "outputs": [],
   "source": [
    "# Load the 20 newsgroups dataset\n",
    "newsgroups = fetch_20newsgroups(subset='all')\n",
    "X, y = newsgroups.data, newsgroups.target\n",
    "\n",
    "# Split the dataset into training and test sets\n",
    "X_train, X_test, y_train, y_test = train_test_split(X, y, test_size=0.2, random_state=42)"
   ]
  },
  {
   "cell_type": "code",
   "execution_count": 4,
   "id": "8b7619ec",
   "metadata": {},
   "outputs": [],
   "source": [
    "# Initialize the TfidfVectorizer\n",
    "vectorizer = TfidfVectorizer(stop_words='english', max_df=0.5)\n",
    "\n",
    "# Fit and transform the training data, and transform the test data\n",
    "X_train_tfidf = vectorizer.fit_transform(X_train)\n",
    "X_test_tfidf = vectorizer.transform(X_test)"
   ]
  },
  {
   "cell_type": "code",
   "execution_count": 5,
   "id": "09deb22e",
   "metadata": {},
   "outputs": [
    {
     "data": {
      "text/plain": [
       "MultinomialNB()"
      ]
     },
     "execution_count": 5,
     "metadata": {},
     "output_type": "execute_result"
    }
   ],
   "source": [
    "# Initialize the Multinomial Naive Bayes classifier\n",
    "nb_classifier = MultinomialNB()\n",
    "\n",
    "# Train the classifier on the training data\n",
    "nb_classifier.fit(X_train_tfidf, y_train)"
   ]
  },
  {
   "cell_type": "code",
   "execution_count": 7,
   "id": "29ffe2cf",
   "metadata": {},
   "outputs": [
    {
     "name": "stdout",
     "output_type": "stream",
     "text": [
      "Accuracy: 0.8787798408488063\n",
      "\n",
      "Classification Report:\n",
      "                          precision    recall  f1-score   support\n",
      "\n",
      "             alt.atheism       0.85      0.86      0.86       151\n",
      "           comp.graphics       0.88      0.84      0.86       202\n",
      " comp.os.ms-windows.misc       0.87      0.84      0.86       195\n",
      "comp.sys.ibm.pc.hardware       0.64      0.85      0.73       183\n",
      "   comp.sys.mac.hardware       0.94      0.87      0.90       205\n",
      "          comp.windows.x       0.95      0.85      0.90       215\n",
      "            misc.forsale       0.93      0.72      0.81       193\n",
      "               rec.autos       0.91      0.94      0.92       196\n",
      "         rec.motorcycles       0.89      0.95      0.92       168\n",
      "      rec.sport.baseball       0.95      0.95      0.95       211\n",
      "        rec.sport.hockey       0.90      0.99      0.94       198\n",
      "               sci.crypt       0.90      0.97      0.94       201\n",
      "         sci.electronics       0.92      0.82      0.87       202\n",
      "                 sci.med       0.97      0.93      0.95       194\n",
      "               sci.space       0.89      0.99      0.94       189\n",
      "  soc.religion.christian       0.72      0.99      0.83       202\n",
      "      talk.politics.guns       0.82      0.97      0.89       188\n",
      "   talk.politics.mideast       0.94      0.99      0.97       182\n",
      "      talk.politics.misc       0.96      0.75      0.85       159\n",
      "      talk.religion.misc       1.00      0.31      0.47       136\n",
      "\n",
      "                accuracy                           0.88      3770\n",
      "               macro avg       0.89      0.87      0.87      3770\n",
      "            weighted avg       0.89      0.88      0.87      3770\n",
      "\n"
     ]
    }
   ],
   "source": [
    "# Predict the labels for the test data\n",
    "y_pred = nb_classifier.predict(X_test_tfidf)\n",
    "\n",
    "# Calculate the accuracy\n",
    "accuracy = accuracy_score(y_test, y_pred)\n",
    "\n",
    "# Generate a classification report\n",
    "class_report = classification_report(y_test, y_pred, target_names=newsgroups.target_names)\n",
    "\n",
    "print(f\"Accuracy: {accuracy}\\n\")\n",
    "print(f\"Classification Report:\\n{class_report}\")"
   ]
  }
 ],
 "metadata": {
  "kernelspec": {
   "display_name": "Python 3 (ipykernel)",
   "language": "python",
   "name": "python3"
  },
  "language_info": {
   "codemirror_mode": {
    "name": "ipython",
    "version": 3
   },
   "file_extension": ".py",
   "mimetype": "text/x-python",
   "name": "python",
   "nbconvert_exporter": "python",
   "pygments_lexer": "ipython3",
   "version": "3.9.12"
  }
 },
 "nbformat": 4,
 "nbformat_minor": 5
}
