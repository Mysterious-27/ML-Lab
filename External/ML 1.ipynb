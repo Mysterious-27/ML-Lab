{
 "cells": [
  {
   "cell_type": "code",
   "execution_count": 13,
   "id": "cc712673-2c2c-45e0-ab50-29a05936b82b",
   "metadata": {},
   "outputs": [
    {
     "name": "stdout",
     "output_type": "stream",
     "text": [
      "[['sky', 'airtemp', 'humidity', 'wind', 'water', 'forcast', 'enjoysport'], ['sunny', 'warm', 'normal', 'strong', 'warm', 'same', 'yes'], ['sunny', 'warm', 'high', 'strong', 'warm', 'same', 'yes'], ['rainy', 'cold', 'high', 'strong', 'warm', 'change', 'no'], ['sunny', 'warm', 'high', 'strong', 'cool', 'change', 'yes']]\n",
      "\n",
      "The total number of training instances are: 5\n",
      "\n",
      "The initial hypothesis is: ['0', '0', '0', '0', '0', '0']\n",
      "\n",
      "The hypothesis after training instance 1 is: ['0', '0', '0', '0', '0', '0']\n",
      "\n",
      "The hypothesis after training instance 2 is: ['sunny', 'warm', 'normal', 'strong', 'warm', 'same']\n",
      "\n",
      "The hypothesis after training instance 3 is: ['sunny', 'warm', '?', 'strong', 'warm', 'same']\n",
      "\n",
      "The hypothesis after training instance 4 is: ['sunny', 'warm', '?', 'strong', 'warm', 'same']\n",
      "\n",
      "The hypothesis after training instance 5 is: ['sunny', 'warm', '?', 'strong', '?', '?']\n",
      "\n",
      "\n",
      "The Maximally specific hypothesis is: ['sunny', 'warm', '?', 'strong', '?', '?']\n"
     ]
    }
   ],
   "source": [
    "import csv\n",
    "\n",
    "with open('enjoysport.csv', 'r') as csvfile:\n",
    "    data = list(csv.reader(csvfile))\n",
    "\n",
    "print(data)\n",
    "\n",
    "print(\"\\nThe total number of training instances are:\", len(data))\n",
    "\n",
    "num_attributes = len(data[0]) - 1\n",
    "hypothesis = ['0'] * num_attributes\n",
    "print(\"\\nThe initial hypothesis is:\", hypothesis)\n",
    "\n",
    "for i, instance in enumerate(data):\n",
    "    if instance[num_attributes] == 'yes':\n",
    "        for j in range(num_attributes):\n",
    "            if hypothesis[j] == '0' or hypothesis[j] == instance[j]:\n",
    "                hypothesis[j] = instance[j]\n",
    "            else:\n",
    "                hypothesis[j] = '?'\n",
    "    print(f\"\\nThe hypothesis after training instance {i + 1} is:\", hypothesis)\n",
    "\n",
    "print(\"\\n\\nThe Maximally specific hypothesis is:\", hypothesis)"
   ]
  }
 ],
 "metadata": {
  "kernelspec": {
   "display_name": "Python 3 (ipykernel)",
   "language": "python",
   "name": "python3"
  },
  "language_info": {
   "codemirror_mode": {
    "name": "ipython",
    "version": 3
   },
   "file_extension": ".py",
   "mimetype": "text/x-python",
   "name": "python",
   "nbconvert_exporter": "python",
   "pygments_lexer": "ipython3",
   "version": "3.12.4"
  }
 },
 "nbformat": 4,
 "nbformat_minor": 5
}
