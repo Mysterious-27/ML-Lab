{
 "cells": [
  {
   "cell_type": "code",
   "execution_count": 1,
   "id": "a2bf458d-1fcc-40d6-add9-33ee279a9c7b",
   "metadata": {},
   "outputs": [],
   "source": [
    "import pandas as pd\n",
    "from pgmpy.models import BayesianNetwork\n",
    "from pgmpy.estimators import MaximumLikelihoodEstimator\n",
    "from pgmpy.inference import VariableElimination"
   ]
  },
  {
   "cell_type": "code",
   "execution_count": 2,
   "id": "67e4c130-31e9-4083-9b8f-10c3633e7e3c",
   "metadata": {},
   "outputs": [
    {
     "name": "stdout",
     "output_type": "stream",
     "text": [
      "   age  sex  cp  thalach  exang  oldpeak  target\n",
      "0   52    1   0      168      0      1.0       0\n",
      "1   53    1   0      155      1      3.1       0\n",
      "2   70    1   0      125      1      2.6       0\n",
      "3   61    1   0      161      0      0.0       0\n",
      "4   62    0   0      106      0      1.9       0\n"
     ]
    }
   ],
   "source": [
    "data = pd.read_csv('heart.csv')\n",
    "\n",
    "subset_data = data[['age', 'sex', 'cp', 'thalach', 'exang', 'oldpeak', 'target']]\n",
    "print(subset_data.head())"
   ]
  },
  {
   "cell_type": "code",
   "execution_count": 3,
   "id": "4f36289f-1c90-4448-a5d8-0ed4ee8c0406",
   "metadata": {},
   "outputs": [],
   "source": [
    "model = BayesianNetwork([\n",
    "    ('age', 'target'),\n",
    "    ('sex', 'target'),\n",
    "    ('cp', 'target'),\n",
    "    ('thalach', 'target'),\n",
    "    ('exang', 'target'),\n",
    "    ('oldpeak', 'target')\n",
    "])\n",
    "\n",
    "model.fit(subset_data, estimator=MaximumLikelihoodEstimator)"
   ]
  },
  {
   "cell_type": "code",
   "execution_count": 4,
   "id": "7a007b72-f05b-406c-9033-a1ab6d5694c3",
   "metadata": {},
   "outputs": [
    {
     "name": "stdout",
     "output_type": "stream",
     "text": [
      "+-----------+---------------+\n",
      "| target    |   phi(target) |\n",
      "+===========+===============+\n",
      "| target(0) |        0.0000 |\n",
      "+-----------+---------------+\n",
      "| target(1) |        1.0000 |\n",
      "+-----------+---------------+\n"
     ]
    }
   ],
   "source": [
    "inference = VariableElimination(model)\n",
    "\n",
    "evidence = { 'age': 50, 'sex': 1, 'cp': 2, 'thalach': 163, 'exang': 0, 'oldpeak': 0 }\n",
    "\n",
    "result = inference.query(variables=['target'], evidence=evidence)\n",
    "print(result)"
   ]
  }
 ],
 "metadata": {
  "kernelspec": {
   "display_name": "Python 3 (ipykernel)",
   "language": "python",
   "name": "python3"
  },
  "language_info": {
   "codemirror_mode": {
    "name": "ipython",
    "version": 3
   },
   "file_extension": ".py",
   "mimetype": "text/x-python",
   "name": "python",
   "nbconvert_exporter": "python",
   "pygments_lexer": "ipython3",
   "version": "3.12.4"
  }
 },
 "nbformat": 4,
 "nbformat_minor": 5
}
